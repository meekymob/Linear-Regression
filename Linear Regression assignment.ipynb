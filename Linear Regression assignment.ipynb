{
 "cells": [
  {
   "cell_type": "code",
   "execution_count": 1,
   "id": "e80ad58b",
   "metadata": {},
   "outputs": [],
   "source": [
    "# Import the necessary libraries"
   ]
  },
  {
   "cell_type": "code",
   "execution_count": 2,
   "id": "d4a4ad9e",
   "metadata": {},
   "outputs": [],
   "source": [
    "import pandas as pd\n",
    "import numpy as np\n",
    "import matplotlib.pyplot as plt\n",
    "import seaborn as sns\n",
    "from sklearn.model_selection import train_test_split\n",
    "from sklearn.linear_model import LinearRegression\n",
    "from sklearn.preprocessing import StandardScaler\n",
    "from sklearn.metrics import r2_score, mean_absolute_error, mean_squared_error\n",
    "from sklearn.linear_model import Ridge, Lasso"
   ]
  },
  {
   "cell_type": "code",
   "execution_count": 3,
   "id": "485bff8b",
   "metadata": {},
   "outputs": [],
   "source": [
    "# Load the dataset"
   ]
  },
  {
   "cell_type": "code",
   "execution_count": 4,
   "id": "d8213290",
   "metadata": {},
   "outputs": [],
   "source": [
    "data = pd.read_csv('USA_Housing-1.csv')"
   ]
  },
  {
   "cell_type": "code",
   "execution_count": 5,
   "id": "276c0c11",
   "metadata": {},
   "outputs": [],
   "source": [
    "# Check the dataset variable description"
   ]
  },
  {
   "cell_type": "code",
   "execution_count": 6,
   "id": "802708f3",
   "metadata": {},
   "outputs": [
    {
     "name": "stdout",
     "output_type": "stream",
     "text": [
      "<class 'pandas.core.frame.DataFrame'>\n",
      "RangeIndex: 5000 entries, 0 to 4999\n",
      "Data columns (total 7 columns):\n",
      " #   Column                        Non-Null Count  Dtype  \n",
      "---  ------                        --------------  -----  \n",
      " 0   Avg. Area Income              5000 non-null   float64\n",
      " 1   Avg. Area House Age           5000 non-null   float64\n",
      " 2   Avg. Area Number of Rooms     5000 non-null   float64\n",
      " 3   Avg. Area Number of Bedrooms  5000 non-null   float64\n",
      " 4   Area Population               5000 non-null   float64\n",
      " 5   Price                         5000 non-null   float64\n",
      " 6   Address                       5000 non-null   object \n",
      "dtypes: float64(6), object(1)\n",
      "memory usage: 273.6+ KB\n"
     ]
    }
   ],
   "source": [
    "data.info()"
   ]
  },
  {
   "cell_type": "code",
   "execution_count": 7,
   "id": "110e5fb7",
   "metadata": {},
   "outputs": [],
   "source": [
    "# There are 5 numeric variables and 1 categorical variable"
   ]
  },
  {
   "cell_type": "code",
   "execution_count": 8,
   "id": "f8267325",
   "metadata": {},
   "outputs": [],
   "source": [
    "# Display the dimension of the dataset"
   ]
  },
  {
   "cell_type": "code",
   "execution_count": 9,
   "id": "2a5c1cfb",
   "metadata": {},
   "outputs": [
    {
     "data": {
      "text/plain": [
       "(5000, 7)"
      ]
     },
     "execution_count": 9,
     "metadata": {},
     "output_type": "execute_result"
    }
   ],
   "source": [
    "data.shape"
   ]
  },
  {
   "cell_type": "code",
   "execution_count": 10,
   "id": "1d92ebc2",
   "metadata": {},
   "outputs": [],
   "source": [
    "## There are 5,000 rows and 7 columns in the dataset "
   ]
  },
  {
   "cell_type": "markdown",
   "id": "35ebdc9b",
   "metadata": {},
   "source": [
    "# Explore the dataset\n",
    "# Display 20 random sample of the dataset"
   ]
  },
  {
   "cell_type": "code",
   "execution_count": 11,
   "id": "237f1d30",
   "metadata": {},
   "outputs": [
    {
     "data": {
      "text/html": [
       "<div>\n",
       "<style scoped>\n",
       "    .dataframe tbody tr th:only-of-type {\n",
       "        vertical-align: middle;\n",
       "    }\n",
       "\n",
       "    .dataframe tbody tr th {\n",
       "        vertical-align: top;\n",
       "    }\n",
       "\n",
       "    .dataframe thead th {\n",
       "        text-align: right;\n",
       "    }\n",
       "</style>\n",
       "<table border=\"1\" class=\"dataframe\">\n",
       "  <thead>\n",
       "    <tr style=\"text-align: right;\">\n",
       "      <th></th>\n",
       "      <th>Avg. Area Income</th>\n",
       "      <th>Avg. Area House Age</th>\n",
       "      <th>Avg. Area Number of Rooms</th>\n",
       "      <th>Avg. Area Number of Bedrooms</th>\n",
       "      <th>Area Population</th>\n",
       "      <th>Price</th>\n",
       "      <th>Address</th>\n",
       "    </tr>\n",
       "  </thead>\n",
       "  <tbody>\n",
       "    <tr>\n",
       "      <th>398</th>\n",
       "      <td>61200.726175</td>\n",
       "      <td>5.299694</td>\n",
       "      <td>6.234615</td>\n",
       "      <td>4.23</td>\n",
       "      <td>42789.692217</td>\n",
       "      <td>8.942511e+05</td>\n",
       "      <td>45153 Salas Hollow Apt. 148\\nWest Erica, SD 93725</td>\n",
       "    </tr>\n",
       "    <tr>\n",
       "      <th>3833</th>\n",
       "      <td>63380.814670</td>\n",
       "      <td>5.344664</td>\n",
       "      <td>6.001574</td>\n",
       "      <td>2.45</td>\n",
       "      <td>40217.333577</td>\n",
       "      <td>9.329794e+05</td>\n",
       "      <td>3499 Stuart Plains Suite 304\\nAaronhaven, NE 8...</td>\n",
       "    </tr>\n",
       "    <tr>\n",
       "      <th>4836</th>\n",
       "      <td>71208.269301</td>\n",
       "      <td>5.300326</td>\n",
       "      <td>6.077989</td>\n",
       "      <td>4.01</td>\n",
       "      <td>25696.361741</td>\n",
       "      <td>9.207479e+05</td>\n",
       "      <td>796 Joshua Forges Suite 834\\nBensonside, CA 82761</td>\n",
       "    </tr>\n",
       "    <tr>\n",
       "      <th>4572</th>\n",
       "      <td>50343.763518</td>\n",
       "      <td>6.027468</td>\n",
       "      <td>5.160240</td>\n",
       "      <td>4.35</td>\n",
       "      <td>27445.876739</td>\n",
       "      <td>6.918549e+05</td>\n",
       "      <td>400 Allen Lodge Apt. 145\\nBernardfort, NV 57316</td>\n",
       "    </tr>\n",
       "    <tr>\n",
       "      <th>636</th>\n",
       "      <td>54535.453719</td>\n",
       "      <td>5.278065</td>\n",
       "      <td>6.871038</td>\n",
       "      <td>4.41</td>\n",
       "      <td>30852.207006</td>\n",
       "      <td>7.327332e+05</td>\n",
       "      <td>146 Christopher Lights Suite 182\\nNew Kathysid...</td>\n",
       "    </tr>\n",
       "    <tr>\n",
       "      <th>2545</th>\n",
       "      <td>77459.757856</td>\n",
       "      <td>4.282450</td>\n",
       "      <td>5.980079</td>\n",
       "      <td>4.48</td>\n",
       "      <td>37910.294982</td>\n",
       "      <td>9.452522e+05</td>\n",
       "      <td>58899 Bender Brooks\\nKimberlyshire, GU 39917-0152</td>\n",
       "    </tr>\n",
       "    <tr>\n",
       "      <th>1161</th>\n",
       "      <td>44088.274183</td>\n",
       "      <td>7.557643</td>\n",
       "      <td>5.581041</td>\n",
       "      <td>2.44</td>\n",
       "      <td>31032.920303</td>\n",
       "      <td>6.244828e+05</td>\n",
       "      <td>71471 Mcgrath Passage Apt. 044\\nMendezville, N...</td>\n",
       "    </tr>\n",
       "    <tr>\n",
       "      <th>2230</th>\n",
       "      <td>58874.273843</td>\n",
       "      <td>6.342055</td>\n",
       "      <td>6.645742</td>\n",
       "      <td>2.11</td>\n",
       "      <td>19772.521662</td>\n",
       "      <td>8.495661e+05</td>\n",
       "      <td>480 Mejia Trail Apt. 386\\nDebrafort, IL 34297-...</td>\n",
       "    </tr>\n",
       "    <tr>\n",
       "      <th>148</th>\n",
       "      <td>90975.113272</td>\n",
       "      <td>4.740683</td>\n",
       "      <td>8.320352</td>\n",
       "      <td>6.45</td>\n",
       "      <td>44426.213648</td>\n",
       "      <td>1.544380e+06</td>\n",
       "      <td>4447 Steven River Suite 076\\nWest Karenmouth, ...</td>\n",
       "    </tr>\n",
       "    <tr>\n",
       "      <th>2530</th>\n",
       "      <td>77825.227469</td>\n",
       "      <td>6.720493</td>\n",
       "      <td>7.425285</td>\n",
       "      <td>5.17</td>\n",
       "      <td>31439.971219</td>\n",
       "      <td>1.535262e+06</td>\n",
       "      <td>481 Fisher Bridge\\nEast Christina, NV 36023-3431</td>\n",
       "    </tr>\n",
       "    <tr>\n",
       "      <th>4070</th>\n",
       "      <td>68953.483610</td>\n",
       "      <td>5.167995</td>\n",
       "      <td>6.946763</td>\n",
       "      <td>2.10</td>\n",
       "      <td>13008.487295</td>\n",
       "      <td>5.688425e+05</td>\n",
       "      <td>829 Nicholas Fork\\nKarlview, NY 69693</td>\n",
       "    </tr>\n",
       "    <tr>\n",
       "      <th>1261</th>\n",
       "      <td>74585.839799</td>\n",
       "      <td>4.492904</td>\n",
       "      <td>5.736896</td>\n",
       "      <td>3.30</td>\n",
       "      <td>48051.647652</td>\n",
       "      <td>1.137523e+06</td>\n",
       "      <td>6665 Victor Cliff\\nSouth Davidburgh, ND 97340</td>\n",
       "    </tr>\n",
       "    <tr>\n",
       "      <th>4682</th>\n",
       "      <td>91935.366852</td>\n",
       "      <td>6.483291</td>\n",
       "      <td>7.700597</td>\n",
       "      <td>4.37</td>\n",
       "      <td>50112.820224</td>\n",
       "      <td>2.092950e+06</td>\n",
       "      <td>51671 Steven Motorway\\nNew Troy, DC 34208-1742</td>\n",
       "    </tr>\n",
       "    <tr>\n",
       "      <th>333</th>\n",
       "      <td>64160.815946</td>\n",
       "      <td>5.677609</td>\n",
       "      <td>6.534960</td>\n",
       "      <td>4.05</td>\n",
       "      <td>32339.006278</td>\n",
       "      <td>9.857498e+05</td>\n",
       "      <td>6049 Jacqueline Centers\\nElizabethberg, WA 74545</td>\n",
       "    </tr>\n",
       "    <tr>\n",
       "      <th>906</th>\n",
       "      <td>70472.792378</td>\n",
       "      <td>6.010154</td>\n",
       "      <td>6.110192</td>\n",
       "      <td>3.24</td>\n",
       "      <td>34894.158826</td>\n",
       "      <td>1.265181e+06</td>\n",
       "      <td>4821 Christopher Park\\nLopezside, MH 21430</td>\n",
       "    </tr>\n",
       "    <tr>\n",
       "      <th>3170</th>\n",
       "      <td>54226.291306</td>\n",
       "      <td>5.370174</td>\n",
       "      <td>7.505222</td>\n",
       "      <td>4.33</td>\n",
       "      <td>35596.824578</td>\n",
       "      <td>8.142403e+05</td>\n",
       "      <td>0527 Dixon Port Suite 914\\nDavisland, UT 33069</td>\n",
       "    </tr>\n",
       "    <tr>\n",
       "      <th>483</th>\n",
       "      <td>72640.264047</td>\n",
       "      <td>4.441899</td>\n",
       "      <td>7.906105</td>\n",
       "      <td>4.27</td>\n",
       "      <td>31470.617456</td>\n",
       "      <td>9.987740e+05</td>\n",
       "      <td>6484 Kayla Mall\\nWest Isaacburgh, MO 37193-8366</td>\n",
       "    </tr>\n",
       "    <tr>\n",
       "      <th>2825</th>\n",
       "      <td>53288.003253</td>\n",
       "      <td>4.204037</td>\n",
       "      <td>6.996336</td>\n",
       "      <td>3.22</td>\n",
       "      <td>48927.304434</td>\n",
       "      <td>8.105371e+05</td>\n",
       "      <td>891 Jordan Mount Apt. 352\\nNorth Donburgh, OK ...</td>\n",
       "    </tr>\n",
       "    <tr>\n",
       "      <th>1778</th>\n",
       "      <td>76783.354658</td>\n",
       "      <td>6.102947</td>\n",
       "      <td>6.328048</td>\n",
       "      <td>3.15</td>\n",
       "      <td>26703.718684</td>\n",
       "      <td>9.783127e+05</td>\n",
       "      <td>438 Angela Ports\\nNatalieside, KS 61342</td>\n",
       "    </tr>\n",
       "    <tr>\n",
       "      <th>2466</th>\n",
       "      <td>80228.599187</td>\n",
       "      <td>5.060031</td>\n",
       "      <td>8.767014</td>\n",
       "      <td>3.29</td>\n",
       "      <td>27255.250819</td>\n",
       "      <td>1.535947e+06</td>\n",
       "      <td>PSC 7102, Box 1708\\nAPO AA 74372-2883</td>\n",
       "    </tr>\n",
       "  </tbody>\n",
       "</table>\n",
       "</div>"
      ],
      "text/plain": [
       "      Avg. Area Income  Avg. Area House Age  Avg. Area Number of Rooms  \\\n",
       "398       61200.726175             5.299694                   6.234615   \n",
       "3833      63380.814670             5.344664                   6.001574   \n",
       "4836      71208.269301             5.300326                   6.077989   \n",
       "4572      50343.763518             6.027468                   5.160240   \n",
       "636       54535.453719             5.278065                   6.871038   \n",
       "2545      77459.757856             4.282450                   5.980079   \n",
       "1161      44088.274183             7.557643                   5.581041   \n",
       "2230      58874.273843             6.342055                   6.645742   \n",
       "148       90975.113272             4.740683                   8.320352   \n",
       "2530      77825.227469             6.720493                   7.425285   \n",
       "4070      68953.483610             5.167995                   6.946763   \n",
       "1261      74585.839799             4.492904                   5.736896   \n",
       "4682      91935.366852             6.483291                   7.700597   \n",
       "333       64160.815946             5.677609                   6.534960   \n",
       "906       70472.792378             6.010154                   6.110192   \n",
       "3170      54226.291306             5.370174                   7.505222   \n",
       "483       72640.264047             4.441899                   7.906105   \n",
       "2825      53288.003253             4.204037                   6.996336   \n",
       "1778      76783.354658             6.102947                   6.328048   \n",
       "2466      80228.599187             5.060031                   8.767014   \n",
       "\n",
       "      Avg. Area Number of Bedrooms  Area Population         Price  \\\n",
       "398                           4.23     42789.692217  8.942511e+05   \n",
       "3833                          2.45     40217.333577  9.329794e+05   \n",
       "4836                          4.01     25696.361741  9.207479e+05   \n",
       "4572                          4.35     27445.876739  6.918549e+05   \n",
       "636                           4.41     30852.207006  7.327332e+05   \n",
       "2545                          4.48     37910.294982  9.452522e+05   \n",
       "1161                          2.44     31032.920303  6.244828e+05   \n",
       "2230                          2.11     19772.521662  8.495661e+05   \n",
       "148                           6.45     44426.213648  1.544380e+06   \n",
       "2530                          5.17     31439.971219  1.535262e+06   \n",
       "4070                          2.10     13008.487295  5.688425e+05   \n",
       "1261                          3.30     48051.647652  1.137523e+06   \n",
       "4682                          4.37     50112.820224  2.092950e+06   \n",
       "333                           4.05     32339.006278  9.857498e+05   \n",
       "906                           3.24     34894.158826  1.265181e+06   \n",
       "3170                          4.33     35596.824578  8.142403e+05   \n",
       "483                           4.27     31470.617456  9.987740e+05   \n",
       "2825                          3.22     48927.304434  8.105371e+05   \n",
       "1778                          3.15     26703.718684  9.783127e+05   \n",
       "2466                          3.29     27255.250819  1.535947e+06   \n",
       "\n",
       "                                                Address  \n",
       "398   45153 Salas Hollow Apt. 148\\nWest Erica, SD 93725  \n",
       "3833  3499 Stuart Plains Suite 304\\nAaronhaven, NE 8...  \n",
       "4836  796 Joshua Forges Suite 834\\nBensonside, CA 82761  \n",
       "4572    400 Allen Lodge Apt. 145\\nBernardfort, NV 57316  \n",
       "636   146 Christopher Lights Suite 182\\nNew Kathysid...  \n",
       "2545  58899 Bender Brooks\\nKimberlyshire, GU 39917-0152  \n",
       "1161  71471 Mcgrath Passage Apt. 044\\nMendezville, N...  \n",
       "2230  480 Mejia Trail Apt. 386\\nDebrafort, IL 34297-...  \n",
       "148   4447 Steven River Suite 076\\nWest Karenmouth, ...  \n",
       "2530   481 Fisher Bridge\\nEast Christina, NV 36023-3431  \n",
       "4070              829 Nicholas Fork\\nKarlview, NY 69693  \n",
       "1261      6665 Victor Cliff\\nSouth Davidburgh, ND 97340  \n",
       "4682     51671 Steven Motorway\\nNew Troy, DC 34208-1742  \n",
       "333    6049 Jacqueline Centers\\nElizabethberg, WA 74545  \n",
       "906          4821 Christopher Park\\nLopezside, MH 21430  \n",
       "3170     0527 Dixon Port Suite 914\\nDavisland, UT 33069  \n",
       "483     6484 Kayla Mall\\nWest Isaacburgh, MO 37193-8366  \n",
       "2825  891 Jordan Mount Apt. 352\\nNorth Donburgh, OK ...  \n",
       "1778            438 Angela Ports\\nNatalieside, KS 61342  \n",
       "2466              PSC 7102, Box 1708\\nAPO AA 74372-2883  "
      ]
     },
     "execution_count": 11,
     "metadata": {},
     "output_type": "execute_result"
    }
   ],
   "source": [
    "data.sample(20, random_state=0)"
   ]
  },
  {
   "cell_type": "code",
   "execution_count": 12,
   "id": "d11423be",
   "metadata": {},
   "outputs": [],
   "source": [
    "# Inference Statistics - Statistical Analysis"
   ]
  },
  {
   "cell_type": "code",
   "execution_count": 13,
   "id": "58ac3e57",
   "metadata": {},
   "outputs": [
    {
     "data": {
      "text/html": [
       "<div>\n",
       "<style scoped>\n",
       "    .dataframe tbody tr th:only-of-type {\n",
       "        vertical-align: middle;\n",
       "    }\n",
       "\n",
       "    .dataframe tbody tr th {\n",
       "        vertical-align: top;\n",
       "    }\n",
       "\n",
       "    .dataframe thead th {\n",
       "        text-align: right;\n",
       "    }\n",
       "</style>\n",
       "<table border=\"1\" class=\"dataframe\">\n",
       "  <thead>\n",
       "    <tr style=\"text-align: right;\">\n",
       "      <th></th>\n",
       "      <th>count</th>\n",
       "      <th>unique</th>\n",
       "      <th>top</th>\n",
       "      <th>freq</th>\n",
       "      <th>mean</th>\n",
       "      <th>std</th>\n",
       "      <th>min</th>\n",
       "      <th>25%</th>\n",
       "      <th>50%</th>\n",
       "      <th>75%</th>\n",
       "      <th>max</th>\n",
       "    </tr>\n",
       "  </thead>\n",
       "  <tbody>\n",
       "    <tr>\n",
       "      <th>Avg. Area Income</th>\n",
       "      <td>5000.0</td>\n",
       "      <td>NaN</td>\n",
       "      <td>NaN</td>\n",
       "      <td>NaN</td>\n",
       "      <td>68583.108984</td>\n",
       "      <td>10657.991214</td>\n",
       "      <td>17796.63119</td>\n",
       "      <td>61480.562388</td>\n",
       "      <td>68804.286404</td>\n",
       "      <td>75783.338666</td>\n",
       "      <td>107701.748378</td>\n",
       "    </tr>\n",
       "    <tr>\n",
       "      <th>Avg. Area House Age</th>\n",
       "      <td>5000.0</td>\n",
       "      <td>NaN</td>\n",
       "      <td>NaN</td>\n",
       "      <td>NaN</td>\n",
       "      <td>5.977222</td>\n",
       "      <td>0.991456</td>\n",
       "      <td>2.644304</td>\n",
       "      <td>5.322283</td>\n",
       "      <td>5.970429</td>\n",
       "      <td>6.650808</td>\n",
       "      <td>9.519088</td>\n",
       "    </tr>\n",
       "    <tr>\n",
       "      <th>Avg. Area Number of Rooms</th>\n",
       "      <td>5000.0</td>\n",
       "      <td>NaN</td>\n",
       "      <td>NaN</td>\n",
       "      <td>NaN</td>\n",
       "      <td>6.987792</td>\n",
       "      <td>1.005833</td>\n",
       "      <td>3.236194</td>\n",
       "      <td>6.29925</td>\n",
       "      <td>7.002902</td>\n",
       "      <td>7.665871</td>\n",
       "      <td>10.759588</td>\n",
       "    </tr>\n",
       "    <tr>\n",
       "      <th>Avg. Area Number of Bedrooms</th>\n",
       "      <td>5000.0</td>\n",
       "      <td>NaN</td>\n",
       "      <td>NaN</td>\n",
       "      <td>NaN</td>\n",
       "      <td>3.98133</td>\n",
       "      <td>1.234137</td>\n",
       "      <td>2.0</td>\n",
       "      <td>3.14</td>\n",
       "      <td>4.05</td>\n",
       "      <td>4.49</td>\n",
       "      <td>6.5</td>\n",
       "    </tr>\n",
       "    <tr>\n",
       "      <th>Area Population</th>\n",
       "      <td>5000.0</td>\n",
       "      <td>NaN</td>\n",
       "      <td>NaN</td>\n",
       "      <td>NaN</td>\n",
       "      <td>36163.516039</td>\n",
       "      <td>9925.650114</td>\n",
       "      <td>172.610686</td>\n",
       "      <td>29403.928702</td>\n",
       "      <td>36199.406689</td>\n",
       "      <td>42861.290769</td>\n",
       "      <td>69621.713378</td>\n",
       "    </tr>\n",
       "    <tr>\n",
       "      <th>Price</th>\n",
       "      <td>5000.0</td>\n",
       "      <td>NaN</td>\n",
       "      <td>NaN</td>\n",
       "      <td>NaN</td>\n",
       "      <td>1232072.654142</td>\n",
       "      <td>353117.626581</td>\n",
       "      <td>15938.657923</td>\n",
       "      <td>997577.135049</td>\n",
       "      <td>1232669.377966</td>\n",
       "      <td>1471210.204212</td>\n",
       "      <td>2469065.594175</td>\n",
       "    </tr>\n",
       "    <tr>\n",
       "      <th>Address</th>\n",
       "      <td>5000</td>\n",
       "      <td>5000</td>\n",
       "      <td>208 Michael Ferry Apt. 674\\nLaurabury, NE 3701...</td>\n",
       "      <td>1</td>\n",
       "      <td>NaN</td>\n",
       "      <td>NaN</td>\n",
       "      <td>NaN</td>\n",
       "      <td>NaN</td>\n",
       "      <td>NaN</td>\n",
       "      <td>NaN</td>\n",
       "      <td>NaN</td>\n",
       "    </tr>\n",
       "  </tbody>\n",
       "</table>\n",
       "</div>"
      ],
      "text/plain": [
       "                               count unique  \\\n",
       "Avg. Area Income              5000.0    NaN   \n",
       "Avg. Area House Age           5000.0    NaN   \n",
       "Avg. Area Number of Rooms     5000.0    NaN   \n",
       "Avg. Area Number of Bedrooms  5000.0    NaN   \n",
       "Area Population               5000.0    NaN   \n",
       "Price                         5000.0    NaN   \n",
       "Address                         5000   5000   \n",
       "\n",
       "                                                                            top  \\\n",
       "Avg. Area Income                                                            NaN   \n",
       "Avg. Area House Age                                                         NaN   \n",
       "Avg. Area Number of Rooms                                                   NaN   \n",
       "Avg. Area Number of Bedrooms                                                NaN   \n",
       "Area Population                                                             NaN   \n",
       "Price                                                                       NaN   \n",
       "Address                       208 Michael Ferry Apt. 674\\nLaurabury, NE 3701...   \n",
       "\n",
       "                             freq            mean            std  \\\n",
       "Avg. Area Income              NaN    68583.108984   10657.991214   \n",
       "Avg. Area House Age           NaN        5.977222       0.991456   \n",
       "Avg. Area Number of Rooms     NaN        6.987792       1.005833   \n",
       "Avg. Area Number of Bedrooms  NaN         3.98133       1.234137   \n",
       "Area Population               NaN    36163.516039    9925.650114   \n",
       "Price                         NaN  1232072.654142  353117.626581   \n",
       "Address                         1             NaN            NaN   \n",
       "\n",
       "                                       min            25%             50%  \\\n",
       "Avg. Area Income               17796.63119   61480.562388    68804.286404   \n",
       "Avg. Area House Age               2.644304       5.322283        5.970429   \n",
       "Avg. Area Number of Rooms         3.236194        6.29925        7.002902   \n",
       "Avg. Area Number of Bedrooms           2.0           3.14            4.05   \n",
       "Area Population                 172.610686   29403.928702    36199.406689   \n",
       "Price                         15938.657923  997577.135049  1232669.377966   \n",
       "Address                                NaN            NaN             NaN   \n",
       "\n",
       "                                         75%             max  \n",
       "Avg. Area Income                75783.338666   107701.748378  \n",
       "Avg. Area House Age                 6.650808        9.519088  \n",
       "Avg. Area Number of Rooms           7.665871       10.759588  \n",
       "Avg. Area Number of Bedrooms            4.49             6.5  \n",
       "Area Population                 42861.290769    69621.713378  \n",
       "Price                         1471210.204212  2469065.594175  \n",
       "Address                                  NaN             NaN  "
      ]
     },
     "execution_count": 13,
     "metadata": {},
     "output_type": "execute_result"
    }
   ],
   "source": [
    "data.describe(include='all').T"
   ]
  },
  {
   "cell_type": "markdown",
   "id": "bd28f60a",
   "metadata": {},
   "source": [
    "# Observation \n",
    "\n",
    "-  The average household income varies from 17796 to 107702.\n",
    "\n",
    "- The average area house age ranges from 2.6 to 10 indicating that the housing age was scaled from 1 to 10.\n",
    "\n",
    "-  The average area number of rooms ranges from 3.24 to 10.76 indicating that the rooms are scaled between 1 to 12.\n",
    "\n",
    "-  The average area of number of bedrooms varies from 2 to 6.5.\n",
    "\n",
    "-  The housing price range varies from 15938 to 2469065 with 50% of house price above 12326669 "
   ]
  },
  {
   "cell_type": "code",
   "execution_count": 14,
   "id": "d212f2a7",
   "metadata": {},
   "outputs": [],
   "source": [
    "## Checking for missing value"
   ]
  },
  {
   "cell_type": "code",
   "execution_count": 15,
   "id": "fefcc8b0",
   "metadata": {},
   "outputs": [
    {
     "data": {
      "text/plain": [
       "Avg. Area Income                0\n",
       "Avg. Area House Age             0\n",
       "Avg. Area Number of Rooms       0\n",
       "Avg. Area Number of Bedrooms    0\n",
       "Area Population                 0\n",
       "Price                           0\n",
       "Address                         0\n",
       "dtype: int64"
      ]
     },
     "execution_count": 15,
     "metadata": {},
     "output_type": "execute_result"
    }
   ],
   "source": [
    "data.isnull().sum()"
   ]
  },
  {
   "cell_type": "markdown",
   "id": "3e263731",
   "metadata": {},
   "source": [
    "# There are no missing value found in the dataset"
   ]
  },
  {
   "cell_type": "code",
   "execution_count": 16,
   "id": "a8764d75",
   "metadata": {},
   "outputs": [],
   "source": [
    "## Checking for duplicate value"
   ]
  },
  {
   "cell_type": "code",
   "execution_count": 17,
   "id": "e60020f7",
   "metadata": {},
   "outputs": [
    {
     "data": {
      "text/plain": [
       "0"
      ]
     },
     "execution_count": 17,
     "metadata": {},
     "output_type": "execute_result"
    }
   ],
   "source": [
    "data.duplicated().sum()"
   ]
  },
  {
   "cell_type": "code",
   "execution_count": 18,
   "id": "fa0286fd",
   "metadata": {},
   "outputs": [],
   "source": [
    "# There is no duplicate entry found in the dataset"
   ]
  },
  {
   "cell_type": "code",
   "execution_count": 19,
   "id": "f0551659",
   "metadata": {},
   "outputs": [],
   "source": [
    "# Obtaining unique columns in numeric variables"
   ]
  },
  {
   "cell_type": "code",
   "execution_count": 20,
   "id": "7dfda576",
   "metadata": {},
   "outputs": [],
   "source": [
    "num_column = data.select_dtypes(exclude='object').columns.tolist()"
   ]
  },
  {
   "cell_type": "code",
   "execution_count": 21,
   "id": "f377e17b",
   "metadata": {},
   "outputs": [
    {
     "data": {
      "text/plain": [
       "['Avg. Area Income',\n",
       " 'Avg. Area House Age',\n",
       " 'Avg. Area Number of Rooms',\n",
       " 'Avg. Area Number of Bedrooms',\n",
       " 'Area Population',\n",
       " 'Price']"
      ]
     },
     "execution_count": 21,
     "metadata": {},
     "output_type": "execute_result"
    }
   ],
   "source": [
    "num_column"
   ]
  },
  {
   "cell_type": "code",
   "execution_count": 22,
   "id": "1f1ae444",
   "metadata": {},
   "outputs": [
    {
     "name": "stdout",
     "output_type": "stream",
     "text": [
      "<bound method IndexOpsMixin.value_counts of 0       79545.458574\n",
      "1       79248.642455\n",
      "2       61287.067179\n",
      "3       63345.240046\n",
      "4       59982.197226\n",
      "            ...     \n",
      "4995    60567.944140\n",
      "4996    78491.275435\n",
      "4997    63390.686886\n",
      "4998    68001.331235\n",
      "4999    65510.581804\n",
      "Name: Avg. Area Income, Length: 5000, dtype: float64>\n",
      "--------------------------------------------------------------------------------\n",
      "<bound method IndexOpsMixin.value_counts of 0       5.682861\n",
      "1       6.002900\n",
      "2       5.865890\n",
      "3       7.188236\n",
      "4       5.040555\n",
      "          ...   \n",
      "4995    7.830362\n",
      "4996    6.999135\n",
      "4997    7.250591\n",
      "4998    5.534388\n",
      "4999    5.992305\n",
      "Name: Avg. Area House Age, Length: 5000, dtype: float64>\n",
      "--------------------------------------------------------------------------------\n",
      "<bound method IndexOpsMixin.value_counts of 0       7.009188\n",
      "1       6.730821\n",
      "2       8.512727\n",
      "3       5.586729\n",
      "4       7.839388\n",
      "          ...   \n",
      "4995    6.137356\n",
      "4996    6.576763\n",
      "4997    4.805081\n",
      "4998    7.130144\n",
      "4999    6.792336\n",
      "Name: Avg. Area Number of Rooms, Length: 5000, dtype: float64>\n",
      "--------------------------------------------------------------------------------\n",
      "<bound method IndexOpsMixin.value_counts of 0       4.09\n",
      "1       3.09\n",
      "2       5.13\n",
      "3       3.26\n",
      "4       4.23\n",
      "        ... \n",
      "4995    3.46\n",
      "4996    4.02\n",
      "4997    2.13\n",
      "4998    5.44\n",
      "4999    4.07\n",
      "Name: Avg. Area Number of Bedrooms, Length: 5000, dtype: float64>\n",
      "--------------------------------------------------------------------------------\n",
      "<bound method IndexOpsMixin.value_counts of 0       23086.800503\n",
      "1       40173.072174\n",
      "2       36882.159400\n",
      "3       34310.242831\n",
      "4       26354.109472\n",
      "            ...     \n",
      "4995    22837.361035\n",
      "4996    25616.115489\n",
      "4997    33266.145490\n",
      "4998    42625.620156\n",
      "4999    46501.283803\n",
      "Name: Area Population, Length: 5000, dtype: float64>\n",
      "--------------------------------------------------------------------------------\n",
      "<bound method IndexOpsMixin.value_counts of 0       1.059034e+06\n",
      "1       1.505891e+06\n",
      "2       1.058988e+06\n",
      "3       1.260617e+06\n",
      "4       6.309435e+05\n",
      "            ...     \n",
      "4995    1.060194e+06\n",
      "4996    1.482618e+06\n",
      "4997    1.030730e+06\n",
      "4998    1.198657e+06\n",
      "4999    1.298950e+06\n",
      "Name: Price, Length: 5000, dtype: float64>\n",
      "--------------------------------------------------------------------------------\n"
     ]
    }
   ],
   "source": [
    "for col in num_column:\n",
    "    print(data[col].value_counts)\n",
    "    print('-'*80)"
   ]
  },
  {
   "cell_type": "markdown",
   "id": "3f668dfa",
   "metadata": {},
   "source": [
    "# Observation\n",
    " -  About 50% of the household earn above 68,000 and about 75% of the household earns above 75,000\n",
    " \n",
    " -  The age range of the household occupant is between 1 and 10 while about 50% of households live in room 7 "
   ]
  },
  {
   "cell_type": "markdown",
   "id": "41b0228b",
   "metadata": {},
   "source": [
    "# Univariate Analysis"
   ]
  },
  {
   "cell_type": "code",
   "execution_count": 23,
   "id": "74d8be86",
   "metadata": {},
   "outputs": [],
   "source": [
    "from functions import histogram_boxplot,labeled_barplot, model_performance_regression,tunealpha"
   ]
  },
  {
   "cell_type": "code",
   "execution_count": 24,
   "id": "563679c7",
   "metadata": {},
   "outputs": [],
   "source": [
    "## Visualize Avg Area House Age"
   ]
  },
  {
   "cell_type": "code",
   "execution_count": 25,
   "id": "93d4dae6",
   "metadata": {},
   "outputs": [
    {
     "data": {
      "image/png": "[encoded data removed]",
      "text/plain": [
       "<Figure size 1200x700 with 2 Axes>"
      ]
     },
     "metadata": {},
     "output_type": "display_data"
    }
   ],
   "source": [
    "histogram_boxplot(data=data, feature='Avg. Area Income')"
   ]
  },
  {
   "cell_type": "markdown",
   "id": "348d7fb4",
   "metadata": {},
   "source": [
    "# Observation\n",
    "- Avg Area Income appears to be more right skewed than the left skew. \n",
    "- There are several outliers both at the right and left upper ends."
   ]
  },
  {
   "cell_type": "code",
   "execution_count": 26,
   "id": "241d4354",
   "metadata": {},
   "outputs": [
    {
     "data": {
      "image/png": "[encoded data removed]",
      "text/plain": [
       "<Figure size 1200x700 with 2 Axes>"
      ]
     },
     "metadata": {},
     "output_type": "display_data"
    }
   ],
   "source": [
    "histogram_boxplot(data=data, feature='Avg. Area House Age')"
   ]
  },
  {
   "cell_type": "markdown",
   "id": "31ffe2af",
   "metadata": {},
   "source": [
    "# Observation\n",
    "- The Avg Area House Age appears to have left skewed. \n",
    "- There are more outliers at both the left and right upper end."
   ]
  },
  {
   "cell_type": "code",
   "execution_count": 27,
   "id": "8dfef24c",
   "metadata": {},
   "outputs": [
    {
     "data": {
      "image/png": "[encoded data removed]",
      "text/plain": [
       "<Figure size 1200x700 with 2 Axes>"
      ]
     },
     "metadata": {},
     "output_type": "display_data"
    }
   ],
   "source": [
    "histogram_boxplot(data=data, feature='Avg. Area Number of Rooms')"
   ]
  },
  {
   "cell_type": "markdown",
   "id": "1a730d83",
   "metadata": {},
   "source": [
    "** Observation\n",
    "- The Avg. Area Number of Rooms appears to be left skewed. \n",
    "- There are several outliers at both upper and lower ends."
   ]
  },
  {
   "cell_type": "code",
   "execution_count": 28,
   "id": "88af2686",
   "metadata": {},
   "outputs": [
    {
     "data": {
      "image/png": "[encoded data removed]",
      "text/plain": [
       "<Figure size 1200x700 with 2 Axes>"
      ]
     },
     "metadata": {},
     "output_type": "display_data"
    }
   ],
   "source": [
    "histogram_boxplot(data=data, feature='Avg. Area Number of Bedrooms')"
   ]
  },
  {
   "cell_type": "markdown",
   "id": "89de5e95",
   "metadata": {},
   "source": [
    "***Observation\n",
    "- Avg. Area Number of Bedrooms appears to have zero skewed. \n",
    "- There is no outlier in this variable indicating a normal distribution"
   ]
  },
  {
   "cell_type": "code",
   "execution_count": 29,
   "id": "57516fc2",
   "metadata": {},
   "outputs": [
    {
     "data": {
      "image/png": "[encoded data removed]",
      "text/plain": [
       "<Figure size 1200x700 with 2 Axes>"
      ]
     },
     "metadata": {},
     "output_type": "display_data"
    }
   ],
   "source": [
    "histogram_boxplot(data=data, feature='Area Population')"
   ]
  },
  {
   "cell_type": "markdown",
   "id": "6ae809eb",
   "metadata": {},
   "source": [
    "# **Observation\n",
    "- Area population appears to be right skewed. There are several outliers at both the upper and lower end of the variable indicating that area population is very high"
   ]
  },
  {
   "cell_type": "code",
   "execution_count": 30,
   "id": "2a4d304e",
   "metadata": {},
   "outputs": [
    {
     "data": {
      "image/png": "[encoded data removed]",
      "text/plain": [
       "<Figure size 1200x700 with 2 Axes>"
      ]
     },
     "metadata": {},
     "output_type": "display_data"
    }
   ],
   "source": [
    "histogram_boxplot(data=data, feature='Price')"
   ]
  },
  {
   "cell_type": "markdown",
   "id": "703d86ff",
   "metadata": {},
   "source": [
    " **Observation\n",
    "- The housing price appears to be right skewed. \n",
    "- There are several outliers at both the upper and lower end indicating the price of houses is very high\n",
    "- The price of the houses ranges from 0 to 2.5 in "
   ]
  },
  {
   "cell_type": "markdown",
   "id": "81f26e90",
   "metadata": {},
   "source": [
    "# Correlation"
   ]
  },
  {
   "cell_type": "code",
   "execution_count": 31,
   "id": "19f1a165",
   "metadata": {},
   "outputs": [
    {
     "name": "stderr",
     "output_type": "stream",
     "text": [
      "C:\\Users\\User\\AppData\\Local\\Temp\\ipykernel_22132\\209800838.py:1: FutureWarning: The default value of numeric_only in DataFrame.corr is deprecated. In a future version, it will default to False. Select only valid columns or specify the value of numeric_only to silence this warning.\n",
      "  sns.heatmap(data.corr(), annot=True,vmin=-1, fmt=\".2f\", cmap=\"Spectral\")\n"
     ]
    },
    {
     "data": {
      "text/plain": [
       "<AxesSubplot: >"
      ]
     },
     "execution_count": 31,
     "metadata": {},
     "output_type": "execute_result"
    },
    {
     "data": {
      "image/png": "[encoded data removed]",
      "text/plain": [
       "<Figure size 640x480 with 2 Axes>"
      ]
     },
     "metadata": {},
     "output_type": "display_data"
    }
   ],
   "source": [
    "sns.heatmap(data.corr(), annot=True,vmin=-1, fmt=\".2f\", cmap=\"Spectral\")"
   ]
  },
  {
   "cell_type": "markdown",
   "id": "fedc0e0d",
   "metadata": {},
   "source": [
    "# Observation"
   ]
  },
  {
   "cell_type": "markdown",
   "id": "9d3aade5",
   "metadata": {},
   "source": [
    "- A one percent change in Avg Area Number of Rooms constitutes a 46% increase in Avg Area Number of Bedrooms\n",
    "- A one percent change in Area population constitutes a 41% increase in house price\n",
    "- A one percent change in Avg Area House Age constitutes a 45% increase in house price\n",
    "- An increase in Avg Area Number of Rooms constitutes a 34% increase in house price"
   ]
  },
  {
   "cell_type": "code",
   "execution_count": 32,
   "id": "f3c51733",
   "metadata": {},
   "outputs": [],
   "source": [
    "# Determine the features by dropping the address and price column"
   ]
  },
  {
   "cell_type": "code",
   "execution_count": 33,
   "id": "e96f1f8d",
   "metadata": {},
   "outputs": [],
   "source": [
    "X = data.drop([\"Address\",\"Price\"], axis=1)"
   ]
  },
  {
   "cell_type": "code",
   "execution_count": 34,
   "id": "5f384d4b",
   "metadata": {},
   "outputs": [],
   "source": [
    "## Making Price as the target variable"
   ]
  },
  {
   "cell_type": "code",
   "execution_count": 35,
   "id": "6623b7b1",
   "metadata": {},
   "outputs": [],
   "source": [
    "y = data['Price']"
   ]
  },
  {
   "cell_type": "code",
   "execution_count": 36,
   "id": "a8acfeb9",
   "metadata": {},
   "outputs": [],
   "source": [
    "# Splitting the dataset into 70% train and 30% test"
   ]
  },
  {
   "cell_type": "code",
   "execution_count": 37,
   "id": "146d389e",
   "metadata": {},
   "outputs": [],
   "source": [
    "x_train, x_test, y_train, y_test = train_test_split(X,y, test_size=0.3, random_state=0)"
   ]
  },
  {
   "cell_type": "code",
   "execution_count": 38,
   "id": "ee0e8348",
   "metadata": {},
   "outputs": [],
   "source": [
    "# Normalising the data with the mean of 0 and standard deviation of 1"
   ]
  },
  {
   "cell_type": "code",
   "execution_count": 39,
   "id": "0104779d",
   "metadata": {},
   "outputs": [],
   "source": [
    "sc = StandardScaler()\n",
    "x_train_sc = sc.fit_transform(x_train)\n",
    "x_test_sc = sc.transform(x_test)"
   ]
  },
  {
   "cell_type": "code",
   "execution_count": 40,
   "id": "012e728d",
   "metadata": {},
   "outputs": [],
   "source": [
    "## Building linear regression model"
   ]
  },
  {
   "cell_type": "markdown",
   "id": "f83ab113",
   "metadata": {},
   "source": [
    "Let's check the performance of the model using different metrics.\n",
    "\n",
    "- We will be using RMSE, MAE, and  𝑅2 and Adjusted R2 metric functions defined in sklearn RMSE\n",
    "- The mean absolute percentage error (MAPE) measures the accuracy of predictions as a percentage, and can be calculated as the average absolute percent error for each predicted value minus actual values divided by actual values. It works best if there are no extreme values in the data and none of the actual values are 0."
   ]
  },
  {
   "cell_type": "code",
   "execution_count": 41,
   "id": "01ff4833",
   "metadata": {},
   "outputs": [
    {
     "data": {
      "text/html": [
       "<style>#sk-container-id-1 {color: black;background-color: white;}#sk-container-id-1 pre{padding: 0;}#sk-container-id-1 div.sk-toggleable {background-color: white;}#sk-container-id-1 label.sk-toggleable__label {cursor: pointer;display: block;width: 100%;margin-bottom: 0;padding: 0.3em;box-sizing: border-box;text-align: center;}#sk-container-id-1 label.sk-toggleable__label-arrow:before {content: \"▸\";float: left;margin-right: 0.25em;color: #696969;}#sk-container-id-1 label.sk-toggleable__label-arrow:hover:before {color: black;}#sk-container-id-1 div.sk-estimator:hover label.sk-toggleable__label-arrow:before {color: black;}#sk-container-id-1 div.sk-toggleable__content {max-height: 0;max-width: 0;overflow: hidden;text-align: left;background-color: #f0f8ff;}#sk-container-id-1 div.sk-toggleable__content pre {margin: 0.2em;color: black;border-radius: 0.25em;background-color: #f0f8ff;}#sk-container-id-1 input.sk-toggleable__control:checked~div.sk-toggleable__content {max-height: 200px;max-width: 100%;overflow: auto;}#sk-container-id-1 input.sk-toggleable__control:checked~label.sk-toggleable__label-arrow:before {content: \"▾\";}#sk-container-id-1 div.sk-estimator input.sk-toggleable__control:checked~label.sk-toggleable__label {background-color: #d4ebff;}#sk-container-id-1 div.sk-label input.sk-toggleable__control:checked~label.sk-toggleable__label {background-color: #d4ebff;}#sk-container-id-1 input.sk-hidden--visually {border: 0;clip: rect(1px 1px 1px 1px);clip: rect(1px, 1px, 1px, 1px);height: 1px;margin: -1px;overflow: hidden;padding: 0;position: absolute;width: 1px;}#sk-container-id-1 div.sk-estimator {font-family: monospace;background-color: #f0f8ff;border: 1px dotted black;border-radius: 0.25em;box-sizing: border-box;margin-bottom: 0.5em;}#sk-container-id-1 div.sk-estimator:hover {background-color: #d4ebff;}#sk-container-id-1 div.sk-parallel-item::after {content: \"\";width: 100%;border-bottom: 1px solid gray;flex-grow: 1;}#sk-container-id-1 div.sk-label:hover label.sk-toggleable__label {background-color: #d4ebff;}#sk-container-id-1 div.sk-serial::before {content: \"\";position: absolute;border-left: 1px solid gray;box-sizing: border-box;top: 0;bottom: 0;left: 50%;z-index: 0;}#sk-container-id-1 div.sk-serial {display: flex;flex-direction: column;align-items: center;background-color: white;padding-right: 0.2em;padding-left: 0.2em;position: relative;}#sk-container-id-1 div.sk-item {position: relative;z-index: 1;}#sk-container-id-1 div.sk-parallel {display: flex;align-items: stretch;justify-content: center;background-color: white;position: relative;}#sk-container-id-1 div.sk-item::before, #sk-container-id-1 div.sk-parallel-item::before {content: \"\";position: absolute;border-left: 1px solid gray;box-sizing: border-box;top: 0;bottom: 0;left: 50%;z-index: -1;}#sk-container-id-1 div.sk-parallel-item {display: flex;flex-direction: column;z-index: 1;position: relative;background-color: white;}#sk-container-id-1 div.sk-parallel-item:first-child::after {align-self: flex-end;width: 50%;}#sk-container-id-1 div.sk-parallel-item:last-child::after {align-self: flex-start;width: 50%;}#sk-container-id-1 div.sk-parallel-item:only-child::after {width: 0;}#sk-container-id-1 div.sk-dashed-wrapped {border: 1px dashed gray;margin: 0 0.4em 0.5em 0.4em;box-sizing: border-box;padding-bottom: 0.4em;background-color: white;}#sk-container-id-1 div.sk-label label {font-family: monospace;font-weight: bold;display: inline-block;line-height: 1.2em;}#sk-container-id-1 div.sk-label-container {text-align: center;}#sk-container-id-1 div.sk-container {/* jupyter's `normalize.less` sets `[hidden] { display: none; }` but bootstrap.min.css set `[hidden] { display: none !important; }` so we also need the `!important` here to be able to override the default hidden behavior on the sphinx rendered scikit-learn.org. See: https://github.com/scikit-learn/scikit-learn/issues/21755 */display: inline-block !important;position: relative;}#sk-container-id-1 div.sk-text-repr-fallback {display: none;}</style><div id=\"sk-container-id-1\" class=\"sk-top-container\"><div class=\"sk-text-repr-fallback\"><pre>LinearRegression()</pre><b>In a Jupyter environment, please rerun this cell to show the HTML representation or trust the notebook. <br />On GitHub, the HTML representation is unable to render, please try loading this page with nbviewer.org.</b></div><div class=\"sk-container\" hidden><div class=\"sk-item\"><div class=\"sk-estimator sk-toggleable\"><input class=\"sk-toggleable__control sk-hidden--visually\" id=\"sk-estimator-id-1\" type=\"checkbox\" checked><label for=\"sk-estimator-id-1\" class=\"sk-toggleable__label sk-toggleable__label-arrow\">LinearRegression</label><div class=\"sk-toggleable__content\"><pre>LinearRegression()</pre></div></div></div></div></div>"
      ],
      "text/plain": [
       "LinearRegression()"
      ]
     },
     "execution_count": 41,
     "metadata": {},
     "output_type": "execute_result"
    }
   ],
   "source": [
    "lr = LinearRegression()\n",
    "lr.fit(x_train_sc,y_train)"
   ]
  },
  {
   "cell_type": "code",
   "execution_count": 42,
   "id": "f77f4826",
   "metadata": {},
   "outputs": [],
   "source": [
    "## Checking the different metrics of the model on training"
   ]
  },
  {
   "cell_type": "code",
   "execution_count": 43,
   "id": "c6bffa68",
   "metadata": {},
   "outputs": [
    {
     "data": {
      "text/html": [
       "<div>\n",
       "<style scoped>\n",
       "    .dataframe tbody tr th:only-of-type {\n",
       "        vertical-align: middle;\n",
       "    }\n",
       "\n",
       "    .dataframe tbody tr th {\n",
       "        vertical-align: top;\n",
       "    }\n",
       "\n",
       "    .dataframe thead th {\n",
       "        text-align: right;\n",
       "    }\n",
       "</style>\n",
       "<table border=\"1\" class=\"dataframe\">\n",
       "  <thead>\n",
       "    <tr style=\"text-align: right;\">\n",
       "      <th></th>\n",
       "      <th>RMSE</th>\n",
       "      <th>MAE</th>\n",
       "      <th>R-Squared</th>\n",
       "      <th>Adj R2 Squared</th>\n",
       "      <th>MAPE</th>\n",
       "    </tr>\n",
       "  </thead>\n",
       "  <tbody>\n",
       "    <tr>\n",
       "      <th>0</th>\n",
       "      <td>100848.566455</td>\n",
       "      <td>81265.307291</td>\n",
       "      <td>0.917071</td>\n",
       "      <td>0.916952</td>\n",
       "      <td>7.662375</td>\n",
       "    </tr>\n",
       "  </tbody>\n",
       "</table>\n",
       "</div>"
      ],
      "text/plain": [
       "            RMSE           MAE  R-Squared  Adj R2 Squared      MAPE\n",
       "0  100848.566455  81265.307291   0.917071        0.916952  7.662375"
      ]
     },
     "execution_count": 43,
     "metadata": {},
     "output_type": "execute_result"
    }
   ],
   "source": [
    "model_performance_regression(lr,x_train_sc,y_train)"
   ]
  },
  {
   "cell_type": "code",
   "execution_count": 44,
   "id": "5b52bdbe",
   "metadata": {},
   "outputs": [],
   "source": [
    "## Checking the different metrics of the model on testing"
   ]
  },
  {
   "cell_type": "code",
   "execution_count": 45,
   "id": "5e3b9d39",
   "metadata": {},
   "outputs": [
    {
     "data": {
      "text/html": [
       "<div>\n",
       "<style scoped>\n",
       "    .dataframe tbody tr th:only-of-type {\n",
       "        vertical-align: middle;\n",
       "    }\n",
       "\n",
       "    .dataframe tbody tr th {\n",
       "        vertical-align: top;\n",
       "    }\n",
       "\n",
       "    .dataframe thead th {\n",
       "        text-align: right;\n",
       "    }\n",
       "</style>\n",
       "<table border=\"1\" class=\"dataframe\">\n",
       "  <thead>\n",
       "    <tr style=\"text-align: right;\">\n",
       "      <th></th>\n",
       "      <th>RMSE</th>\n",
       "      <th>MAE</th>\n",
       "      <th>R-Squared</th>\n",
       "      <th>Adj R2 Squared</th>\n",
       "      <th>MAPE</th>\n",
       "    </tr>\n",
       "  </thead>\n",
       "  <tbody>\n",
       "    <tr>\n",
       "      <th>0</th>\n",
       "      <td>101672.699523</td>\n",
       "      <td>81563.14734</td>\n",
       "      <td>0.920076</td>\n",
       "      <td>0.919808</td>\n",
       "      <td>7.511446</td>\n",
       "    </tr>\n",
       "  </tbody>\n",
       "</table>\n",
       "</div>"
      ],
      "text/plain": [
       "            RMSE          MAE  R-Squared  Adj R2 Squared      MAPE\n",
       "0  101672.699523  81563.14734   0.920076        0.919808  7.511446"
      ]
     },
     "execution_count": 45,
     "metadata": {},
     "output_type": "execute_result"
    }
   ],
   "source": [
    "model_performance_regression(lr,x_test_sc,y_test)"
   ]
  },
  {
   "cell_type": "markdown",
   "id": "82ca5e64",
   "metadata": {},
   "source": [
    "Observation\n",
    "- Both the train and test data have high Root Mean Square Error indicating that the model has more than 9% errors\n",
    "- Mean Absolute Percentage Error is ~7.6% on training and 7.5 on testing data\n",
    "- The Adjusted R2 Squared has a high variance of housing price at 91% "
   ]
  },
  {
   "cell_type": "markdown",
   "id": "5d5f6aad",
   "metadata": {},
   "source": [
    "Regularisation of the model using Ridge and Lasso "
   ]
  },
  {
   "cell_type": "code",
   "execution_count": 46,
   "id": "7335112b",
   "metadata": {},
   "outputs": [
    {
     "data": {
      "text/html": [
       "<style>#sk-container-id-2 {color: black;background-color: white;}#sk-container-id-2 pre{padding: 0;}#sk-container-id-2 div.sk-toggleable {background-color: white;}#sk-container-id-2 label.sk-toggleable__label {cursor: pointer;display: block;width: 100%;margin-bottom: 0;padding: 0.3em;box-sizing: border-box;text-align: center;}#sk-container-id-2 label.sk-toggleable__label-arrow:before {content: \"▸\";float: left;margin-right: 0.25em;color: #696969;}#sk-container-id-2 label.sk-toggleable__label-arrow:hover:before {color: black;}#sk-container-id-2 div.sk-estimator:hover label.sk-toggleable__label-arrow:before {color: black;}#sk-container-id-2 div.sk-toggleable__content {max-height: 0;max-width: 0;overflow: hidden;text-align: left;background-color: #f0f8ff;}#sk-container-id-2 div.sk-toggleable__content pre {margin: 0.2em;color: black;border-radius: 0.25em;background-color: #f0f8ff;}#sk-container-id-2 input.sk-toggleable__control:checked~div.sk-toggleable__content {max-height: 200px;max-width: 100%;overflow: auto;}#sk-container-id-2 input.sk-toggleable__control:checked~label.sk-toggleable__label-arrow:before {content: \"▾\";}#sk-container-id-2 div.sk-estimator input.sk-toggleable__control:checked~label.sk-toggleable__label {background-color: #d4ebff;}#sk-container-id-2 div.sk-label input.sk-toggleable__control:checked~label.sk-toggleable__label {background-color: #d4ebff;}#sk-container-id-2 input.sk-hidden--visually {border: 0;clip: rect(1px 1px 1px 1px);clip: rect(1px, 1px, 1px, 1px);height: 1px;margin: -1px;overflow: hidden;padding: 0;position: absolute;width: 1px;}#sk-container-id-2 div.sk-estimator {font-family: monospace;background-color: #f0f8ff;border: 1px dotted black;border-radius: 0.25em;box-sizing: border-box;margin-bottom: 0.5em;}#sk-container-id-2 div.sk-estimator:hover {background-color: #d4ebff;}#sk-container-id-2 div.sk-parallel-item::after {content: \"\";width: 100%;border-bottom: 1px solid gray;flex-grow: 1;}#sk-container-id-2 div.sk-label:hover label.sk-toggleable__label {background-color: #d4ebff;}#sk-container-id-2 div.sk-serial::before {content: \"\";position: absolute;border-left: 1px solid gray;box-sizing: border-box;top: 0;bottom: 0;left: 50%;z-index: 0;}#sk-container-id-2 div.sk-serial {display: flex;flex-direction: column;align-items: center;background-color: white;padding-right: 0.2em;padding-left: 0.2em;position: relative;}#sk-container-id-2 div.sk-item {position: relative;z-index: 1;}#sk-container-id-2 div.sk-parallel {display: flex;align-items: stretch;justify-content: center;background-color: white;position: relative;}#sk-container-id-2 div.sk-item::before, #sk-container-id-2 div.sk-parallel-item::before {content: \"\";position: absolute;border-left: 1px solid gray;box-sizing: border-box;top: 0;bottom: 0;left: 50%;z-index: -1;}#sk-container-id-2 div.sk-parallel-item {display: flex;flex-direction: column;z-index: 1;position: relative;background-color: white;}#sk-container-id-2 div.sk-parallel-item:first-child::after {align-self: flex-end;width: 50%;}#sk-container-id-2 div.sk-parallel-item:last-child::after {align-self: flex-start;width: 50%;}#sk-container-id-2 div.sk-parallel-item:only-child::after {width: 0;}#sk-container-id-2 div.sk-dashed-wrapped {border: 1px dashed gray;margin: 0 0.4em 0.5em 0.4em;box-sizing: border-box;padding-bottom: 0.4em;background-color: white;}#sk-container-id-2 div.sk-label label {font-family: monospace;font-weight: bold;display: inline-block;line-height: 1.2em;}#sk-container-id-2 div.sk-label-container {text-align: center;}#sk-container-id-2 div.sk-container {/* jupyter's `normalize.less` sets `[hidden] { display: none; }` but bootstrap.min.css set `[hidden] { display: none !important; }` so we also need the `!important` here to be able to override the default hidden behavior on the sphinx rendered scikit-learn.org. See: https://github.com/scikit-learn/scikit-learn/issues/21755 */display: inline-block !important;position: relative;}#sk-container-id-2 div.sk-text-repr-fallback {display: none;}</style><div id=\"sk-container-id-2\" class=\"sk-top-container\"><div class=\"sk-text-repr-fallback\"><pre>Ridge()</pre><b>In a Jupyter environment, please rerun this cell to show the HTML representation or trust the notebook. <br />On GitHub, the HTML representation is unable to render, please try loading this page with nbviewer.org.</b></div><div class=\"sk-container\" hidden><div class=\"sk-item\"><div class=\"sk-estimator sk-toggleable\"><input class=\"sk-toggleable__control sk-hidden--visually\" id=\"sk-estimator-id-2\" type=\"checkbox\" checked><label for=\"sk-estimator-id-2\" class=\"sk-toggleable__label sk-toggleable__label-arrow\">Ridge</label><div class=\"sk-toggleable__content\"><pre>Ridge()</pre></div></div></div></div></div>"
      ],
      "text/plain": [
       "Ridge()"
      ]
     },
     "execution_count": 46,
     "metadata": {},
     "output_type": "execute_result"
    }
   ],
   "source": [
    "ridge = Ridge()\n",
    "ridge.fit(x_train_sc,y_train)"
   ]
  },
  {
   "cell_type": "code",
   "execution_count": 47,
   "id": "dbfa5608",
   "metadata": {},
   "outputs": [
    {
     "name": "stdout",
     "output_type": "stream",
     "text": [
      "Alpha is 0.1\n",
      "            RMSE           MAE  R-Squared  Adj R2 Squared      MAPE\n",
      "0  100848.566973  81265.431784   0.917071        0.916952  7.662502\n",
      "Alpha is 1.2000000000000002\n",
      "            RMSE           MAE  R-Squared  Adj R2 Squared      MAPE\n",
      "0  100848.640932  81266.800531   0.917071        0.916952  7.663895\n",
      "Alpha is 2.3000000000000003\n",
      "            RMSE           MAE  R-Squared  Adj R2 Squared      MAPE\n",
      "0  100848.839855  81268.186082    0.91707        0.916952  7.665288\n",
      "Alpha is 3.4000000000000004\n",
      "            RMSE           MAE  R-Squared  Adj R2 Squared      MAPE\n",
      "0  100849.163473  81269.722543    0.91707        0.916951  7.666691\n",
      "Alpha is 4.5\n",
      "            RMSE           MAE  R-Squared  Adj R2 Squared      MAPE\n",
      "0  100849.611514  81271.257665   0.917069         0.91695  7.668092\n",
      "Alpha is 5.6\n",
      "            RMSE           MAE  R-Squared  Adj R2 Squared    MAPE\n",
      "0  100850.183707  81272.895394   0.917068        0.916949  7.6695\n",
      "Alpha is 6.7\n",
      "            RMSE          MAE  R-Squared  Adj R2 Squared     MAPE\n",
      "0  100850.879782  81274.84794   0.917067        0.916948  7.67099\n",
      "Alpha is 7.800000000000001\n",
      "            RMSE           MAE  R-Squared  Adj R2 Squared      MAPE\n",
      "0  100851.699469  81276.961671   0.917065        0.916947  7.672528\n",
      "Alpha is 8.9\n",
      "            RMSE           MAE  R-Squared  Adj R2 Squared      MAPE\n",
      "0  100852.642497  81279.103968   0.917064        0.916945  7.674067\n",
      "Alpha is 10.0\n",
      "            RMSE           MAE  R-Squared  Adj R2 Squared      MAPE\n",
      "0  100853.708597  81281.252129   0.917062        0.916943  7.675606\n"
     ]
    }
   ],
   "source": [
    "tunealpha(Ridge,x_train_sc,y_train,0.1,10)"
   ]
  },
  {
   "cell_type": "markdown",
   "id": "481d22f7",
   "metadata": {},
   "source": [
    "Regularisation using lasso model"
   ]
  },
  {
   "cell_type": "code",
   "execution_count": 48,
   "id": "e9923679",
   "metadata": {},
   "outputs": [
    {
     "data": {
      "text/html": [
       "<style>#sk-container-id-3 {color: black;background-color: white;}#sk-container-id-3 pre{padding: 0;}#sk-container-id-3 div.sk-toggleable {background-color: white;}#sk-container-id-3 label.sk-toggleable__label {cursor: pointer;display: block;width: 100%;margin-bottom: 0;padding: 0.3em;box-sizing: border-box;text-align: center;}#sk-container-id-3 label.sk-toggleable__label-arrow:before {content: \"▸\";float: left;margin-right: 0.25em;color: #696969;}#sk-container-id-3 label.sk-toggleable__label-arrow:hover:before {color: black;}#sk-container-id-3 div.sk-estimator:hover label.sk-toggleable__label-arrow:before {color: black;}#sk-container-id-3 div.sk-toggleable__content {max-height: 0;max-width: 0;overflow: hidden;text-align: left;background-color: #f0f8ff;}#sk-container-id-3 div.sk-toggleable__content pre {margin: 0.2em;color: black;border-radius: 0.25em;background-color: #f0f8ff;}#sk-container-id-3 input.sk-toggleable__control:checked~div.sk-toggleable__content {max-height: 200px;max-width: 100%;overflow: auto;}#sk-container-id-3 input.sk-toggleable__control:checked~label.sk-toggleable__label-arrow:before {content: \"▾\";}#sk-container-id-3 div.sk-estimator input.sk-toggleable__control:checked~label.sk-toggleable__label {background-color: #d4ebff;}#sk-container-id-3 div.sk-label input.sk-toggleable__control:checked~label.sk-toggleable__label {background-color: #d4ebff;}#sk-container-id-3 input.sk-hidden--visually {border: 0;clip: rect(1px 1px 1px 1px);clip: rect(1px, 1px, 1px, 1px);height: 1px;margin: -1px;overflow: hidden;padding: 0;position: absolute;width: 1px;}#sk-container-id-3 div.sk-estimator {font-family: monospace;background-color: #f0f8ff;border: 1px dotted black;border-radius: 0.25em;box-sizing: border-box;margin-bottom: 0.5em;}#sk-container-id-3 div.sk-estimator:hover {background-color: #d4ebff;}#sk-container-id-3 div.sk-parallel-item::after {content: \"\";width: 100%;border-bottom: 1px solid gray;flex-grow: 1;}#sk-container-id-3 div.sk-label:hover label.sk-toggleable__label {background-color: #d4ebff;}#sk-container-id-3 div.sk-serial::before {content: \"\";position: absolute;border-left: 1px solid gray;box-sizing: border-box;top: 0;bottom: 0;left: 50%;z-index: 0;}#sk-container-id-3 div.sk-serial {display: flex;flex-direction: column;align-items: center;background-color: white;padding-right: 0.2em;padding-left: 0.2em;position: relative;}#sk-container-id-3 div.sk-item {position: relative;z-index: 1;}#sk-container-id-3 div.sk-parallel {display: flex;align-items: stretch;justify-content: center;background-color: white;position: relative;}#sk-container-id-3 div.sk-item::before, #sk-container-id-3 div.sk-parallel-item::before {content: \"\";position: absolute;border-left: 1px solid gray;box-sizing: border-box;top: 0;bottom: 0;left: 50%;z-index: -1;}#sk-container-id-3 div.sk-parallel-item {display: flex;flex-direction: column;z-index: 1;position: relative;background-color: white;}#sk-container-id-3 div.sk-parallel-item:first-child::after {align-self: flex-end;width: 50%;}#sk-container-id-3 div.sk-parallel-item:last-child::after {align-self: flex-start;width: 50%;}#sk-container-id-3 div.sk-parallel-item:only-child::after {width: 0;}#sk-container-id-3 div.sk-dashed-wrapped {border: 1px dashed gray;margin: 0 0.4em 0.5em 0.4em;box-sizing: border-box;padding-bottom: 0.4em;background-color: white;}#sk-container-id-3 div.sk-label label {font-family: monospace;font-weight: bold;display: inline-block;line-height: 1.2em;}#sk-container-id-3 div.sk-label-container {text-align: center;}#sk-container-id-3 div.sk-container {/* jupyter's `normalize.less` sets `[hidden] { display: none; }` but bootstrap.min.css set `[hidden] { display: none !important; }` so we also need the `!important` here to be able to override the default hidden behavior on the sphinx rendered scikit-learn.org. See: https://github.com/scikit-learn/scikit-learn/issues/21755 */display: inline-block !important;position: relative;}#sk-container-id-3 div.sk-text-repr-fallback {display: none;}</style><div id=\"sk-container-id-3\" class=\"sk-top-container\"><div class=\"sk-text-repr-fallback\"><pre>Lasso()</pre><b>In a Jupyter environment, please rerun this cell to show the HTML representation or trust the notebook. <br />On GitHub, the HTML representation is unable to render, please try loading this page with nbviewer.org.</b></div><div class=\"sk-container\" hidden><div class=\"sk-item\"><div class=\"sk-estimator sk-toggleable\"><input class=\"sk-toggleable__control sk-hidden--visually\" id=\"sk-estimator-id-3\" type=\"checkbox\" checked><label for=\"sk-estimator-id-3\" class=\"sk-toggleable__label sk-toggleable__label-arrow\">Lasso</label><div class=\"sk-toggleable__content\"><pre>Lasso()</pre></div></div></div></div></div>"
      ],
      "text/plain": [
       "Lasso()"
      ]
     },
     "execution_count": 48,
     "metadata": {},
     "output_type": "execute_result"
    }
   ],
   "source": [
    "lasso = Lasso()\n",
    "lasso.fit(x_train_sc,y_train)"
   ]
  },
  {
   "cell_type": "code",
   "execution_count": 49,
   "id": "051e869f",
   "metadata": {},
   "outputs": [
    {
     "name": "stdout",
     "output_type": "stream",
     "text": [
      "Alpha is 0.001\n",
      "            RMSE           MAE  R-Squared  Adj R2 Squared      MAPE\n",
      "0  100848.566455  81265.307265   0.917071        0.916952  7.662375\n",
      "Alpha is 0.0064444444444444445\n",
      "            RMSE           MAE  R-Squared  Adj R2 Squared      MAPE\n",
      "0  100848.566455  81265.307209   0.917071        0.916952  7.662375\n",
      "Alpha is 0.01188888888888889\n",
      "            RMSE           MAE  R-Squared  Adj R2 Squared      MAPE\n",
      "0  100848.566455  81265.307306   0.917071        0.916952  7.662375\n",
      "Alpha is 0.017333333333333333\n",
      "            RMSE           MAE  R-Squared  Adj R2 Squared      MAPE\n",
      "0  100848.566455  81265.307402   0.917071        0.916952  7.662375\n",
      "Alpha is 0.02277777777777778\n",
      "            RMSE           MAE  R-Squared  Adj R2 Squared      MAPE\n",
      "0  100848.566455  81265.306813   0.917071        0.916952  7.662375\n",
      "Alpha is 0.028222222222222225\n",
      "            RMSE           MAE  R-Squared  Adj R2 Squared      MAPE\n",
      "0  100848.566455  81265.306909   0.917071        0.916952  7.662375\n",
      "Alpha is 0.033666666666666664\n",
      "            RMSE           MAE  R-Squared  Adj R2 Squared      MAPE\n",
      "0  100848.566455  81265.307006   0.917071        0.916952  7.662376\n",
      "Alpha is 0.03911111111111111\n",
      "            RMSE           MAE  R-Squared  Adj R2 Squared      MAPE\n",
      "0  100848.566455  81265.307103   0.917071        0.916952  7.662376\n",
      "Alpha is 0.04455555555555556\n",
      "            RMSE         MAE  R-Squared  Adj R2 Squared      MAPE\n",
      "0  100848.566455  81265.3072   0.917071        0.916952  7.662376\n",
      "Alpha is 0.05\n",
      "            RMSE           MAE  R-Squared  Adj R2 Squared      MAPE\n",
      "0  100848.566455  81265.307297   0.917071        0.916952  7.662376\n"
     ]
    }
   ],
   "source": [
    "tunealpha(Lasso,x_train_sc,y_train,0.001,0.05)"
   ]
  },
  {
   "cell_type": "markdown",
   "id": "4675fa66",
   "metadata": {},
   "source": [
    "Observation\n",
    "- There was no significant difference when the data was regularized with or without lasso and ridge regularization"
   ]
  },
  {
   "cell_type": "code",
   "execution_count": null,
   "id": "b7475027",
   "metadata": {},
   "outputs": [],
   "source": []
  }
 ],
 "metadata": {
  "kernelspec": {
   "display_name": "Python 3 (ipykernel)",
   "language": "python",
   "name": "python3"
  },
  "language_info": {
   "codemirror_mode": {
    "name": "ipython",
    "version": 3
   },
   "file_extension": ".py",
   "mimetype": "text/x-python",
   "name": "python",
   "nbconvert_exporter": "python",
   "pygments_lexer": "ipython3",
   "version": "3.8.5"
  }
 },
 "nbformat": 4,
 "nbformat_minor": 5
}
